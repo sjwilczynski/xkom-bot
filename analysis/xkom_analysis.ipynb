{
 "cells": [
  {
   "cell_type": "code",
   "execution_count": 1,
   "metadata": {
    "collapsed": false,
    "inputHidden": false,
    "jupyter": {
     "outputs_hidden": false
    },
    "outputHidden": false
   },
   "outputs": [
    {
     "name": "stdout",
     "output_type": "stream",
     "text": [
      "Populating the interactive namespace from numpy and matplotlib\n"
     ]
    }
   ],
   "source": [
    "%pylab inline\n",
    "import pandas as pd\n",
    "pd.options.display.max_rows = 200\n",
    "np.set_printoptions(precision=3)\n",
    "pd.options.display.float_format = '{:,.3f}'.format"
   ]
  },
  {
   "cell_type": "code",
   "execution_count": 2,
   "metadata": {
    "collapsed": false,
    "inputHidden": false,
    "jupyter": {
     "outputs_hidden": false
    },
    "outputHidden": false
   },
   "outputs": [],
   "source": [
    "import azure.cosmos\n",
    "from pymongo import MongoClient\n",
    "import json\n",
    "\n",
    "with open('../local.settings.json') as settings_file:\n",
    "    settings = json.load(settings_file)\n",
    "    MONGO_URL = settings['Values']['mongo_url']\n",
    "    MONGO_USERNAME = settings['Values']['mongo_username']\n",
    "    MONGO_PASSWORD = settings['Values']['mongo_password']\n",
    "\n",
    "\n",
    "def insert(element):\n",
    "    db = get_db_connection()\n",
    "    if get(element['date']) is None:\n",
    "        db.insert(element)\n",
    "\n",
    "\n",
    "def get_all():\n",
    "    db = get_db_connection()\n",
    "    return list(db.find())\n",
    "\n",
    "\n",
    "def get(date):\n",
    "    db = get_db_connection()\n",
    "    return db.find_one({'date': date})\n",
    "\n",
    "\n",
    "def get_db_connection():\n",
    "    client = MongoClient(MONGO_URL)\n",
    "    db = client.xkom_bot\n",
    "    db.authenticate(name=MONGO_USERNAME, password=MONGO_PASSWORD)\n",
    "\n",
    "    return db.xkom_bot_data"
   ]
  },
  {
   "cell_type": "code",
   "execution_count": 3,
   "metadata": {
    "collapsed": false,
    "inputHidden": false,
    "jupyter": {
     "outputs_hidden": false
    },
    "outputHidden": false
   },
   "outputs": [],
   "source": [
    "data = pd.DataFrame(get_all())\n",
    "del data['_id']"
   ]
  },
  {
   "cell_type": "code",
   "execution_count": 4,
   "metadata": {
    "collapsed": false,
    "inputHidden": false,
    "jupyter": {
     "outputs_hidden": false
    },
    "outputHidden": false
   },
   "outputs": [
    {
     "data": {
      "text/html": [
       "<div>\n",
       "<style scoped>\n",
       "    .dataframe tbody tr th:only-of-type {\n",
       "        vertical-align: middle;\n",
       "    }\n",
       "\n",
       "    .dataframe tbody tr th {\n",
       "        vertical-align: top;\n",
       "    }\n",
       "\n",
       "    .dataframe thead th {\n",
       "        text-align: right;\n",
       "    }\n",
       "</style>\n",
       "<table border=\"1\" class=\"dataframe\">\n",
       "  <thead>\n",
       "    <tr style=\"text-align: right;\">\n",
       "      <th></th>\n",
       "      <th>Category</th>\n",
       "      <th>New price</th>\n",
       "      <th>Original price</th>\n",
       "      <th>Product name</th>\n",
       "      <th>date</th>\n",
       "    </tr>\n",
       "  </thead>\n",
       "  <tbody>\n",
       "    <tr>\n",
       "      <th>2629</th>\n",
       "      <td>Podstawki chłodzące</td>\n",
       "      <td>49,00</td>\n",
       "      <td>99,00</td>\n",
       "      <td>Podstawka chłodząca pod laptop Targus Single F...</td>\n",
       "      <td>2020-01-15 21</td>\n",
       "    </tr>\n",
       "    <tr>\n",
       "      <th>2628</th>\n",
       "      <td>Dyski SSD</td>\n",
       "      <td>199,00</td>\n",
       "      <td>249,00</td>\n",
       "      <td>Dysk SSD Plextor 512GB 2,5\" SATA M8VC</td>\n",
       "      <td>2020-01-15 18</td>\n",
       "    </tr>\n",
       "    <tr>\n",
       "      <th>2627</th>\n",
       "      <td>Dyski SSD</td>\n",
       "      <td>199,00</td>\n",
       "      <td>249,00</td>\n",
       "      <td>Dysk SSD Plextor 512GB 2,5\" SATA M8VC</td>\n",
       "      <td>2020-01-15 09</td>\n",
       "    </tr>\n",
       "    <tr>\n",
       "      <th>2626</th>\n",
       "      <td>Myszki przewodowe</td>\n",
       "      <td>79,00</td>\n",
       "      <td>109,00</td>\n",
       "      <td>Dream Machines DM1 Pro (5000dpi)</td>\n",
       "      <td>2020-01-14 18</td>\n",
       "    </tr>\n",
       "    <tr>\n",
       "      <th>2624</th>\n",
       "      <td>Dyski zewnętrzne i przenośne</td>\n",
       "      <td>189,00</td>\n",
       "      <td>249,00</td>\n",
       "      <td>Dysk zewnetrzny Silicon Power Armor A30 1TB US...</td>\n",
       "      <td>2020-01-13 22</td>\n",
       "    </tr>\n",
       "  </tbody>\n",
       "</table>\n",
       "</div>"
      ],
      "text/plain": [
       "                          Category New price Original price  \\\n",
       "2629           Podstawki chłodzące     49,00          99,00   \n",
       "2628                     Dyski SSD    199,00         249,00   \n",
       "2627                     Dyski SSD    199,00         249,00   \n",
       "2626             Myszki przewodowe     79,00         109,00   \n",
       "2624  Dyski zewnętrzne i przenośne    189,00         249,00   \n",
       "\n",
       "                                           Product name           date  \n",
       "2629  Podstawka chłodząca pod laptop Targus Single F...  2020-01-15 21  \n",
       "2628              Dysk SSD Plextor 512GB 2,5\" SATA M8VC  2020-01-15 18  \n",
       "2627              Dysk SSD Plextor 512GB 2,5\" SATA M8VC  2020-01-15 09  \n",
       "2626                   Dream Machines DM1 Pro (5000dpi)  2020-01-14 18  \n",
       "2624  Dysk zewnetrzny Silicon Power Armor A30 1TB US...  2020-01-13 22  "
      ]
     },
     "execution_count": 4,
     "metadata": {},
     "output_type": "execute_result"
    }
   ],
   "source": [
    "# Check last added values\n",
    "data.sort_values(by='date', ascending=False).head(5)"
   ]
  },
  {
   "cell_type": "code",
   "execution_count": 5,
   "metadata": {
    "collapsed": false,
    "inputHidden": false,
    "jupyter": {
     "outputs_hidden": false
    },
    "outputHidden": false
   },
   "outputs": [],
   "source": [
    "data['Original price'] = data['Original price'].apply(lambda x: pd.to_numeric(str(x)[:-3].replace(\" \", \"\")))\n",
    "data['New price'] = data['New price'].apply(lambda x: pd.to_numeric(str(x)[:-3].replace(\" \", \"\")))\n",
    "data['date'] = pd.to_datetime(data['date'])\n",
    "data.set_index('date', inplace=True)\n",
    "data = data.sort_values(by='date')\n",
    "year_index = data.index.year\n",
    "month_index = data.index.month\n",
    "dayofweek_index = data.index.dayofweek\n",
    "hour_index = data.index.hour"
   ]
  },
  {
   "cell_type": "code",
   "execution_count": 6,
   "metadata": {
    "collapsed": false,
    "inputHidden": false,
    "jupyter": {
     "outputs_hidden": false
    },
    "outputHidden": false
   },
   "outputs": [
    {
     "name": "stdout",
     "output_type": "stream",
     "text": [
      "Category          object\n",
      "New price          int64\n",
      "Original price     int64\n",
      "Product name      object\n",
      "dtype: object\n"
     ]
    },
    {
     "data": {
      "text/html": [
       "<div>\n",
       "<style scoped>\n",
       "    .dataframe tbody tr th:only-of-type {\n",
       "        vertical-align: middle;\n",
       "    }\n",
       "\n",
       "    .dataframe tbody tr th {\n",
       "        vertical-align: top;\n",
       "    }\n",
       "\n",
       "    .dataframe thead th {\n",
       "        text-align: right;\n",
       "    }\n",
       "</style>\n",
       "<table border=\"1\" class=\"dataframe\">\n",
       "  <thead>\n",
       "    <tr style=\"text-align: right;\">\n",
       "      <th></th>\n",
       "      <th>Category</th>\n",
       "      <th>New price</th>\n",
       "      <th>Original price</th>\n",
       "      <th>Product name</th>\n",
       "    </tr>\n",
       "    <tr>\n",
       "      <th>date</th>\n",
       "      <th></th>\n",
       "      <th></th>\n",
       "      <th></th>\n",
       "      <th></th>\n",
       "    </tr>\n",
       "  </thead>\n",
       "  <tbody>\n",
       "    <tr>\n",
       "      <th>2016-05-27 22:00:00</th>\n",
       "      <td>Drukarki atramentowe</td>\n",
       "      <td>389</td>\n",
       "      <td>449</td>\n",
       "      <td>Drukarka atramentowa Epson L130</td>\n",
       "    </tr>\n",
       "    <tr>\n",
       "      <th>2016-05-28 10:00:00</th>\n",
       "      <td>Karty graficzne</td>\n",
       "      <td>1459</td>\n",
       "      <td>1749</td>\n",
       "      <td>Gigabyte GeForce GTX970 Gaming G1 + klawiatura...</td>\n",
       "    </tr>\n",
       "    <tr>\n",
       "      <th>2016-05-28 22:00:00</th>\n",
       "      <td>Routery</td>\n",
       "      <td>279</td>\n",
       "      <td>449</td>\n",
       "      <td>Router Linksys EA6700 (1750Mb/s) DualBand USB</td>\n",
       "    </tr>\n",
       "    <tr>\n",
       "      <th>2016-05-29 10:00:00</th>\n",
       "      <td>Notebooki / Laptopy 17,3\"</td>\n",
       "      <td>4499</td>\n",
       "      <td>4749</td>\n",
       "      <td>MSI GE72 Apache i7-6700HQ/8GB/1TB/Win10X GTX960M</td>\n",
       "    </tr>\n",
       "    <tr>\n",
       "      <th>2016-05-29 22:00:00</th>\n",
       "      <td>Zasilacze awaryjne (UPS)</td>\n",
       "      <td>379</td>\n",
       "      <td>419</td>\n",
       "      <td>Zasilacz awaryjny (UPS) APC Back-UPS CS (350VA</td>\n",
       "    </tr>\n",
       "  </tbody>\n",
       "</table>\n",
       "</div>"
      ],
      "text/plain": [
       "                                      Category  New price  Original price  \\\n",
       "date                                                                        \n",
       "2016-05-27 22:00:00       Drukarki atramentowe        389             449   \n",
       "2016-05-28 10:00:00            Karty graficzne       1459            1749   \n",
       "2016-05-28 22:00:00                    Routery        279             449   \n",
       "2016-05-29 10:00:00  Notebooki / Laptopy 17,3\"       4499            4749   \n",
       "2016-05-29 22:00:00   Zasilacze awaryjne (UPS)        379             419   \n",
       "\n",
       "                                                          Product name  \n",
       "date                                                                    \n",
       "2016-05-27 22:00:00                    Drukarka atramentowa Epson L130  \n",
       "2016-05-28 10:00:00  Gigabyte GeForce GTX970 Gaming G1 + klawiatura...  \n",
       "2016-05-28 22:00:00      Router Linksys EA6700 (1750Mb/s) DualBand USB  \n",
       "2016-05-29 10:00:00   MSI GE72 Apache i7-6700HQ/8GB/1TB/Win10X GTX960M  \n",
       "2016-05-29 22:00:00     Zasilacz awaryjny (UPS) APC Back-UPS CS (350VA  "
      ]
     },
     "execution_count": 6,
     "metadata": {},
     "output_type": "execute_result"
    }
   ],
   "source": [
    "print(data.dtypes)\n",
    "data.head(5)"
   ]
  },
  {
   "cell_type": "code",
   "execution_count": 7,
   "metadata": {
    "collapsed": false,
    "inputHidden": false,
    "jupyter": {
     "outputs_hidden": false
    },
    "outputHidden": false
   },
   "outputs": [
    {
     "name": "stdout",
     "output_type": "stream",
     "text": [
      "['Drukarki atramentowe' 'Karty graficzne' 'Routery'\n",
      " 'Notebooki / Laptopy 17,3\"' 'Zasilacze awaryjne (UPS)'\n",
      " 'Smartfony i telefony' 'Dyski SSD' 'Karty graficzne NVIDIA'\n",
      " 'Notebooki / Laptopy 13,3\"' 'Obudowy do komputera'\n",
      " 'Zasilacze do komputera' 'Tablety 10\"' 'Nagrywarki DVD' 'Brak'\n",
      " 'Pendrive (pamięci USB)' 'Myszki bezprzewodowe' 'Karty pamięci microSD'\n",
      " 'Uchwyty do smartfonów' 'Notebooki / Laptopy 15,6\"'\n",
      " 'Urządzenia wiel. atramentowe' 'Odtwarzacze MP3' 'Zestawy słuchawkowe'\n",
      " 'Access Pointy' 'Wkłady do aparatów' 'Kamery sportowe'\n",
      " 'Klawiatury  przewodowe' 'Etui na tablety' 'Plecaki na laptopy'\n",
      " 'Głośniki komputerowe' 'Czytniki kart do smartfonów' 'Ładowarki do kamer'\n",
      " 'Słuchawki bezprzewodowe' 'Słuchawki przewodowe' 'Przejściówki'\n",
      " 'Powerbanki' 'Papier do drukarek' 'Akumulatory uniwersalne' 'Konsole'\n",
      " 'Tablety 8\"' 'Smartwatche' 'Monitory LED 24\" (23,5\"-26,4\")'\n",
      " 'Monitory LED 27\" (26,5\"-28,4\")' 'Torby na laptopy' 'Głośniki'\n",
      " 'Wideorejestratory' 'Skanery' 'Nawigacje samochodowe'\n",
      " 'Ładowarki do smartfonów' 'Akcesoria do tabletów'\n",
      " 'Urządzenia wiel. laserowe' 'Lampy błyskowe'\n",
      " 'Dyski sieciowe NAS i macierze' 'Czytniki ebook' 'Projektory'\n",
      " 'Monitory LED 22\" (21,5\"-23,4\")' 'Dyski zewnętrzne i przenośne'\n",
      " 'Podkładki pod mysz' 'Pady' 'Podstawki chłodzące' 'Nettopy/Mini-PC'\n",
      " 'Gry na PC' 'Klawiatury do tabletów' 'Głośniki przenośne'\n",
      " 'Płyty główne Socket 1151' 'Gry na PlayStation 4' 'Zasilacze do laptopów'\n",
      " 'Karty pamięci SD' 'Tusze do drukarek' 'Statywy' 'Kamery IP'\n",
      " 'Myszki przewodowe' 'Switche' 'Gry na Xbox One' 'Dyski HDD'\n",
      " 'Zestawy / Bundle' 'Piloty uniwersalne' 'Akcesoria do laptopów'\n",
      " 'Pamięci RAM DDR4' 'Obudowy dysków' 'Karty sieciowe'\n",
      " 'Monitory LED 29\" (28,5\"-31,4\")' 'Laptopy 2 w 1'\n",
      " 'Monitory LED 32\" i większe' 'Dyktafony' 'Pamięci RAM SODIMM DDR4'\n",
      " 'Kable USB' 'Filtry fotograficzne' 'Monitory LED 21\" i mniejsze'\n",
      " 'Konsole Xbox' 'Zestawy klawiatura i mysz' 'Telewizory 33\" - 43\"'\n",
      " 'Uchwyty i podstawki do konsol' 'Odtwarzacze multimedialne' 'Kable HDMI'\n",
      " 'Telewizory 44\" - 55\"' 'Abonamenty i PrePaid do konsol' 'Tablety 7\"'\n",
      " 'Modemy' 'Telewizory 32\" i mniejsze' 'Płyty główne Socket 2011-3'\n",
      " 'Listwy zasilające' 'Kamery internetowe' 'Zestawy głośnomówiące'\n",
      " 'Pamięci RAM DDR3' 'Etui i obudowy na smartfony' 'Huby USB' 'Smartbandy'\n",
      " 'Dyski do konsol' 'Gniazda Smart Plug' 'Stacje dokujące do tabletów'\n",
      " 'Ekrany projekcyjne' 'Karty graficzne AMD' 'Kable DisplayPort' 'Gry'\n",
      " 'Notebooki / Laptopy 14,1\"' 'Opaski naramienne' 'Zegarki sportowe'\n",
      " 'Płyty główne' 'Chłodzenia komputerowe' 'Drukarki laserowe'\n",
      " 'Akcesoria GSM' 'Tablety graficzne' 'Mikrofony' 'Fotele gamingowe'\n",
      " 'Stacje dokujące do laptopów' 'Klawiatury bezprzewodowe'\n",
      " 'Procesory Intel Core i7' 'Kierownice' 'Etui na laptopy' 'Gaming'\n",
      " 'Folie i szkła na smartfony' 'Słuchawki douszne i dokanałowe'\n",
      " 'Kamery cyfrowe ' 'Centralki i zestawy' 'Plecaki na aparaty'\n",
      " 'Kijki do selfie' 'Kable Lightning' 'Gry na Switch' 'Fotele dla graczy'\n",
      " 'Programy antywirusowe' 'Drukarki laserowe kolorowe' 'Lustrzanki' 'Drony'\n",
      " 'Monitory' 'Zasilanie' 'Chłodzenia procesorów' 'Wagi'\n",
      " 'Ładowarki do akumulatorów' 'Gimbale' 'Stojaki na słuchawki'\n",
      " 'Systemy operacyjne' 'Sterowanie ogrzewaniem' 'Stacje pogodowe'\n",
      " 'Podzespoły komputerowe' 'Niszczarki do papieru'\n",
      " 'Programy graficzne i wideo' 'Akcesoria do kamer sportowych' 'Akcesoria'\n",
      " 'Słuchawki True Wireless' 'Zaślepki na kamerę laptopa'\n",
      " 'Futerały na aparaty' 'Akcesoria do myszek dla graczy' 'Napędy DVD'\n",
      " 'Drukarki termosublimacyjne' 'Karty dźwiękowe' 'Wentylatory do komputera'\n",
      " 'Pamięci RAM SODIMM DDR3' 'Soundbary' 'Systemy Mesh Wi-Fi'\n",
      " 'Inteligentne zegarki' 'Wzmacniacze słuchawkowe'\n",
      " 'Stacje dokujące do smartfonów' 'Obudowy i naklejki na konsole'\n",
      " 'Płyty główne Socket AM4' 'Procesory Intel Core i5' 'Do ekranów LCD/TFT'\n",
      " 'Hulajnogi elektryczne' 'Procesory AMD Ryzen 5' 'Inteligentne żarówki'\n",
      " 'Procesory Intel Core i9' 'Słuchawki do konsol' 'Przenośny sprzęt audio'\n",
      " 'Pasty termoprzewodzące' 'Desktopy' 'Nawigacje turystyczne'\n",
      " 'Procesory AMD Ryzen 7' 'Procesory AMD Ryzen 3' 'Smartwatche dla dzieci'\n",
      " 'Programy biurowe' 'Procesory AMD APU' 'Procesory AMD Ryzen 9']\n",
      "(2630, 4)\n"
     ]
    }
   ],
   "source": [
    "unique_categories = data['Category'].unique()\n",
    "print(unique_categories)\n",
    "print(data.shape)"
   ]
  },
  {
   "cell_type": "code",
   "execution_count": 8,
   "metadata": {
    "collapsed": false,
    "inputHidden": false,
    "jupyter": {
     "outputs_hidden": false
    },
    "outputHidden": false
   },
   "outputs": [
    {
     "name": "stderr",
     "output_type": "stream",
     "text": [
      "/home/stachu/anaconda3/envs/master/lib/python3.7/site-packages/ipykernel_launcher.py:7: SettingWithCopyWarning: \n",
      "A value is trying to be set on a copy of a slice from a DataFrame\n",
      "\n",
      "See the caveats in the documentation: http://pandas.pydata.org/pandas-docs/stable/indexing.html#indexing-view-versus-copy\n",
      "  import sys\n"
     ]
    }
   ],
   "source": [
    "categories = ['Procesory', 'Monitory', 'Telewizory', 'Kable', 'Ładowarki', 'Stacje dokujące', 'Tablety', 'Papier', 'Gry', 'Akcesoria', 'Gaming', 'Etui', 'Laptopy', 'Słuchawk', 'Drukarki', 'Konsol', 'Karty graficzne', 'Klawiatury', 'Kamery', 'Płyty główne', 'Obudowy', 'Głośniki', 'Myszki', 'Dyski', 'Karty pamięci']\n",
    "new_categories = ['Procesory', 'Monitory', 'Telewizory', 'Kable', 'Ładowarki', 'Stacje dokujące', 'Tablety', 'Papier', 'Gry', 'Akcesoria', 'Gaming', 'Etui', 'Laptopy', 'Słuchawki', 'Drukarki', 'Konsole', 'Karty graficzne', 'Klawiatury', 'Kamery', 'Płyty główne', 'Obudowy', 'Głośniki', 'Myszki', 'Dyski', 'Karty pamięci']\n",
    "    \n",
    "for category_name, new_name in zip(categories, new_categories):\n",
    "    filtered = list(filter(lambda category: category_name.lower() in category.lower(), unique_categories))\n",
    "    for name in filtered:\n",
    "        data['Category'][data['Category'] == name] = new_name"
   ]
  },
  {
   "cell_type": "code",
   "execution_count": 9,
   "metadata": {},
   "outputs": [
    {
     "data": {
      "text/plain": [
       "Smartfony i telefony    379\n",
       "Słuchawki               216\n",
       "Dyski                   175\n",
       "Monitory                167\n",
       "Laptopy                 154\n",
       "Name: Category, dtype: int64"
      ]
     },
     "execution_count": 9,
     "metadata": {},
     "output_type": "execute_result"
    }
   ],
   "source": [
    "most_common_categories = data['Category'].value_counts()[:5].index.tolist()\n",
    "data['Category'].value_counts()[:5]"
   ]
  },
  {
   "cell_type": "code",
   "execution_count": 10,
   "metadata": {
    "collapsed": false,
    "inputHidden": false,
    "jupyter": {
     "outputs_hidden": false
    },
    "outputHidden": false
   },
   "outputs": [
    {
     "name": "stdout",
     "output_type": "stream",
     "text": [
      "24.74 14.37\n"
     ]
    }
   ],
   "source": [
    "data['Percentage discount'] = (1 - data['New price']/data['Original price']) * 100\n",
    "data['Percentage discount'] = data['Percentage discount'].apply(lambda value: int(value))\n",
    "percentage_discount = data[['Percentage discount']]\n",
    "print(\"%.2f\" % percentage_discount.mean(), \"%.2f\" % percentage_discount.std())                      "
   ]
  },
  {
   "cell_type": "code",
   "execution_count": 19,
   "metadata": {},
   "outputs": [
    {
     "name": "stdout",
     "output_type": "stream",
     "text": [
      "Hour 10: Mean: 24.90 Standard deviation: 14.75\n",
      "Hour 22: Mean: 24.59 Standard deviation: 14.01\n",
      "Day 0: Mean: 24.67 Standard deviation: 15.02\n",
      "Day 1: Mean: 21.97 Standard deviation: 13.12\n",
      "Day 2: Mean: 24.72 Standard deviation: 14.64\n",
      "Day 3: Mean: 25.14 Standard deviation: 14.14\n",
      "Day 4: Mean: 25.29 Standard deviation: 14.67\n",
      "Day 5: Mean: 24.94 Standard deviation: 13.35\n",
      "Day 6: Mean: 26.49 Standard deviation: 15.19\n",
      "Month 1: Mean: 26.04 Standard deviation: 15.53\n",
      "Month 2: Mean: 25.49 Standard deviation: 16.59\n",
      "Month 3: Mean: 26.74 Standard deviation: 13.80\n",
      "Month 4: Mean: 25.99 Standard deviation: 14.27\n",
      "Month 5: Mean: 25.32 Standard deviation: 14.92\n",
      "Month 6: Mean: 24.01 Standard deviation: 13.08\n",
      "Month 7: Mean: 24.71 Standard deviation: 15.06\n",
      "Month 8: Mean: 23.93 Standard deviation: 14.26\n",
      "Month 9: Mean: 25.21 Standard deviation: 14.10\n",
      "Month 10: Mean: 23.33 Standard deviation: 13.81\n",
      "Month 11: Mean: 24.22 Standard deviation: 14.37\n",
      "Month 12: Mean: 23.27 Standard deviation: 12.98\n",
      "Year 2016: Mean: 21.08 Standard deviation: 15.13\n",
      "Year 2017: Mean: 22.49 Standard deviation: 14.44\n",
      "Year 2018: Mean: 27.56 Standard deviation: 14.13\n",
      "Year 2019: Mean: 26.18 Standard deviation: 13.15\n",
      "Year 2020: Mean: 29.93 Standard deviation: 15.54\n"
     ]
    }
   ],
   "source": [
    "# percentage_discount.iloc[-20:].plot(figsize=(20,10), linewidth=5, fontsize=20)\n",
    "def show_basic_stats(df, index, value, name):\n",
    "    print(\"{} {}:\".format(name, value), \"Mean: %.2f\" % df.iloc[index==value].mean(), \"Standard deviation: %.2f\" % df.iloc[index==value].std()) \n",
    "for hour in [10, 22]:\n",
    "    show_basic_stats(percentage_discount, hour_index, hour, \"Hour\")\n",
    "for day in np.arange(0,7):\n",
    "    show_basic_stats(percentage_discount, dayofweek_index, day, \"Day\")\n",
    "for month in np.arange(1,13):\n",
    "    show_basic_stats(percentage_discount, month_index, month, \"Month\")\n",
    "for year in np.arange(2016, 2021):\n",
    "    show_basic_stats(percentage_discount, year_index, year, \"Year\")"
   ]
  }
 ],
 "metadata": {
  "kernelspec": {
   "display_name": "Python 3",
   "language": "python",
   "name": "python3"
  },
  "language_info": {
   "codemirror_mode": {
    "name": "ipython",
    "version": 3
   },
   "file_extension": ".py",
   "mimetype": "text/x-python",
   "name": "python",
   "nbconvert_exporter": "python",
   "pygments_lexer": "ipython3",
   "version": "3.7.3"
  },
  "nteract": {
   "version": "dataExplorer 1.0"
  }
 },
 "nbformat": 4,
 "nbformat_minor": 4
}
